{
 "cells": [
  {
   "cell_type": "code",
   "execution_count": 2,
   "metadata": {},
   "outputs": [
    {
     "name": "stdout",
     "output_type": "stream",
     "text": [
      "Collecting openpyxl\n",
      "  Downloading openpyxl-3.0.10-py2.py3-none-any.whl (242 kB)\n",
      "Collecting et-xmlfile\n",
      "  Downloading et_xmlfile-1.1.0-py3-none-any.whl (4.7 kB)\n",
      "Installing collected packages: et-xmlfile, openpyxl\n",
      "Successfully installed et-xmlfile-1.1.0 openpyxl-3.0.10\n"
     ]
    }
   ],
   "source": [
    "!pip install openpyxl"
   ]
  },
  {
   "cell_type": "code",
   "execution_count": 3,
   "metadata": {
    "scrolled": true
   },
   "outputs": [],
   "source": [
    "import pandas as pd\n",
    "import bs4\n",
    "import requests\n",
    "import openpyxl"
   ]
  },
  {
   "cell_type": "code",
   "execution_count": 4,
   "metadata": {},
   "outputs": [],
   "source": [
    "data = requests.get('https://www.thaiherbbiz.com/')\n",
    "soup = bs4.BeautifulSoup(data.text)\n",
    "name_list = []\n",
    "code_list = []\n",
    "price_list = []"
   ]
  },
  {
   "cell_type": "code",
   "execution_count": 5,
   "metadata": {},
   "outputs": [],
   "source": [
    "herb = soup.find('div',{'class':'productDetail'})"
   ]
  },
  {
   "cell_type": "code",
   "execution_count": 6,
   "metadata": {},
   "outputs": [],
   "source": [
    "name = herb.find('div',{'class':'product_name'})"
   ]
  },
  {
   "cell_type": "code",
   "execution_count": 7,
   "metadata": {},
   "outputs": [
    {
     "data": {
      "text/plain": [
       "'ยาแคปซูลพลูคาว สมุนไพรดวงพร (ขวด)'"
      ]
     },
     "execution_count": 7,
     "metadata": {},
     "output_type": "execute_result"
    }
   ],
   "source": [
    "name.find('a').text"
   ]
  },
  {
   "cell_type": "code",
   "execution_count": 8,
   "metadata": {},
   "outputs": [],
   "source": [
    "code = herb.find('div',{'class':'product_code'})"
   ]
  },
  {
   "cell_type": "code",
   "execution_count": 9,
   "metadata": {},
   "outputs": [
    {
     "data": {
      "text/plain": [
       "'SKU-00007'"
      ]
     },
     "execution_count": 9,
     "metadata": {},
     "output_type": "execute_result"
    }
   ],
   "source": [
    "code.find('span').text"
   ]
  },
  {
   "cell_type": "code",
   "execution_count": 10,
   "metadata": {},
   "outputs": [],
   "source": [
    "price = herb.find('div',{'class':'product_price has_currency_unit'})"
   ]
  },
  {
   "cell_type": "code",
   "execution_count": 11,
   "metadata": {},
   "outputs": [
    {
     "data": {
      "text/plain": [
       "'115'"
      ]
     },
     "execution_count": 11,
     "metadata": {},
     "output_type": "execute_result"
    }
   ],
   "source": [
    "price.get('realprice')"
   ]
  },
  {
   "cell_type": "code",
   "execution_count": 12,
   "metadata": {
    "scrolled": false
   },
   "outputs": [],
   "source": [
    "for c in soup.find_all('div',{'class':'productDetail'}):\n",
    "    name_list.append(c.find('div',{'class':'product_name'}).find('a').text)\n",
    "    code_list.append(c.find('div',{'class':'product_code'}).find('span').text)\n",
    "    price_list.append(c.find('div',{'class':'product_price has_currency_unit'}).get('realprice'))"
   ]
  },
  {
   "cell_type": "code",
   "execution_count": 13,
   "metadata": {},
   "outputs": [
    {
     "data": {
      "text/html": [
       "<div>\n",
       "<style scoped>\n",
       "    .dataframe tbody tr th:only-of-type {\n",
       "        vertical-align: middle;\n",
       "    }\n",
       "\n",
       "    .dataframe tbody tr th {\n",
       "        vertical-align: top;\n",
       "    }\n",
       "\n",
       "    .dataframe thead th {\n",
       "        text-align: right;\n",
       "    }\n",
       "</style>\n",
       "<table border=\"1\" class=\"dataframe\">\n",
       "  <thead>\n",
       "    <tr style=\"text-align: right;\">\n",
       "      <th></th>\n",
       "      <th>code</th>\n",
       "      <th>price</th>\n",
       "    </tr>\n",
       "    <tr>\n",
       "      <th>name</th>\n",
       "      <th></th>\n",
       "      <th></th>\n",
       "    </tr>\n",
       "  </thead>\n",
       "  <tbody>\n",
       "    <tr>\n",
       "      <th>ยาแคปซูลพลูคาว สมุนไพรดวงพร (ขวด)</th>\n",
       "      <td>SKU-00007</td>\n",
       "      <td>115</td>\n",
       "    </tr>\n",
       "    <tr>\n",
       "      <th>ตรีผลาแคปซูล สมุนไพรดวงพร (ขวด)</th>\n",
       "      <td>SKU-00011</td>\n",
       "      <td>85</td>\n",
       "    </tr>\n",
       "    <tr>\n",
       "      <th>ยาแคปซูลฟ้าทะลายโจร สมุนไพรดวงพร (ขวด)</th>\n",
       "      <td>SKU-00016</td>\n",
       "      <td>120</td>\n",
       "    </tr>\n",
       "    <tr>\n",
       "      <th>ยาแคปซูลกวาวเครือขาว สมุนไพรดวงพร (ขวด)</th>\n",
       "      <td>SKU-00022</td>\n",
       "      <td>75</td>\n",
       "    </tr>\n",
       "    <tr>\n",
       "      <th>ยาแคปซูลกระชายดำ สมุนไพรดวงพร (ขวด)</th>\n",
       "      <td>SKU-00024</td>\n",
       "      <td>85</td>\n",
       "    </tr>\n",
       "    <tr>\n",
       "      <th>...</th>\n",
       "      <td>...</td>\n",
       "      <td>...</td>\n",
       "    </tr>\n",
       "    <tr>\n",
       "      <th>น้ำมันสมุนไพรหงส์ไทย ดม นวด ทา สูตร1 ใช้ทาผิวกาย (3 ซีซี - ขวดจิ๋ว)</th>\n",
       "      <td>SKU-02823</td>\n",
       "      <td>40</td>\n",
       "    </tr>\n",
       "    <tr>\n",
       "      <th>น้ำมันสมุนไพรหงส์ไทย ดม นวด ทา สูตร1 ใช้ทาผิวกาย (20 ซีซี-สเปรย์)</th>\n",
       "      <td>SKU-02822</td>\n",
       "      <td>129</td>\n",
       "    </tr>\n",
       "    <tr>\n",
       "      <th>อ้วยอันโอสถ ยาอมสมุนไพรมังกรทอง คละรส (บ๊วยเค็ม-มะนาว-เปลือกส้ม)-ยกถาด 18 หลอด</th>\n",
       "      <td>SKU-02821</td>\n",
       "      <td>159</td>\n",
       "    </tr>\n",
       "    <tr>\n",
       "      <th>ครีมหมักผมน้ำมันมะพร้าว ทรอปิคานา สูตร NON PARABEN Coconut Hair Mask (แบบซอง 35 กรัม)</th>\n",
       "      <td>SKU-02820</td>\n",
       "      <td>42</td>\n",
       "    </tr>\n",
       "    <tr>\n",
       "      <th>ยาอมสมุนไพร รสบ๊วยเค็ม อ้วยอันโอสถ มังกรทอง (ยกถาด 18 ขวด)</th>\n",
       "      <td>SKU-02819</td>\n",
       "      <td>159</td>\n",
       "    </tr>\n",
       "  </tbody>\n",
       "</table>\n",
       "<p>74 rows × 2 columns</p>\n",
       "</div>"
      ],
      "text/plain": [
       "                                                         code price\n",
       "name                                                               \n",
       "ยาแคปซูลพลูคาว สมุนไพรดวงพร (ขวด)                   SKU-00007   115\n",
       "ตรีผลาแคปซูล สมุนไพรดวงพร (ขวด)                     SKU-00011    85\n",
       "ยาแคปซูลฟ้าทะลายโจร สมุนไพรดวงพร (ขวด)              SKU-00016   120\n",
       "ยาแคปซูลกวาวเครือขาว สมุนไพรดวงพร (ขวด)             SKU-00022    75\n",
       "ยาแคปซูลกระชายดำ สมุนไพรดวงพร (ขวด)                 SKU-00024    85\n",
       "...                                                       ...   ...\n",
       "น้ำมันสมุนไพรหงส์ไทย ดม นวด ทา สูตร1 ใช้ทาผิวกา...  SKU-02823    40\n",
       "น้ำมันสมุนไพรหงส์ไทย ดม นวด ทา สูตร1 ใช้ทาผิวกา...  SKU-02822   129\n",
       "อ้วยอันโอสถ ยาอมสมุนไพรมังกรทอง คละรส (บ๊วยเค็ม...  SKU-02821   159\n",
       "ครีมหมักผมน้ำมันมะพร้าว ทรอปิคานา สูตร NON PARA...  SKU-02820    42\n",
       "ยาอมสมุนไพร รสบ๊วยเค็ม อ้วยอันโอสถ มังกรทอง (ยก...  SKU-02819   159\n",
       "\n",
       "[74 rows x 2 columns]"
      ]
     },
     "execution_count": 13,
     "metadata": {},
     "output_type": "execute_result"
    }
   ],
   "source": [
    "table = pd.DataFrame([name_list,code_list,price_list]).transpose()\n",
    "table.columns = ['name','code','price']\n",
    "table.set_index('name')"
   ]
  },
  {
   "cell_type": "code",
   "execution_count": 14,
   "metadata": {
    "scrolled": true
   },
   "outputs": [],
   "source": [
    "table.to_excel('Herb Products.xlsx',engine = 'openpyxl')"
   ]
  },
  {
   "cell_type": "code",
   "execution_count": null,
   "metadata": {},
   "outputs": [],
   "source": []
  },
  {
   "cell_type": "code",
   "execution_count": null,
   "metadata": {},
   "outputs": [],
   "source": []
  },
  {
   "cell_type": "code",
   "execution_count": null,
   "metadata": {},
   "outputs": [],
   "source": [
    "name_list"
   ]
  },
  {
   "cell_type": "code",
   "execution_count": null,
   "metadata": {},
   "outputs": [],
   "source": [
    "code_list"
   ]
  },
  {
   "cell_type": "code",
   "execution_count": null,
   "metadata": {},
   "outputs": [],
   "source": [
    "price_list"
   ]
  },
  {
   "cell_type": "code",
   "execution_count": null,
   "metadata": {},
   "outputs": [],
   "source": []
  },
  {
   "cell_type": "code",
   "execution_count": null,
   "metadata": {},
   "outputs": [],
   "source": []
  },
  {
   "cell_type": "code",
   "execution_count": null,
   "metadata": {},
   "outputs": [],
   "source": []
  },
  {
   "cell_type": "code",
   "execution_count": null,
   "metadata": {},
   "outputs": [],
   "source": []
  }
 ],
 "metadata": {
  "kernelspec": {
   "display_name": "Python 3",
   "language": "python",
   "name": "python3"
  },
  "language_info": {
   "codemirror_mode": {
    "name": "ipython",
    "version": 3
   },
   "file_extension": ".py",
   "mimetype": "text/x-python",
   "name": "python",
   "nbconvert_exporter": "python",
   "pygments_lexer": "ipython3",
   "version": "3.6.10"
  }
 },
 "nbformat": 4,
 "nbformat_minor": 4
}
